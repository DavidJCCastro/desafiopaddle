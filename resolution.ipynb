{
 "cells": [
  {
   "cell_type": "code",
   "execution_count": 1,
   "id": "6d221e2f-b51a-409c-9f65-47ac42734d2d",
   "metadata": {},
   "outputs": [],
   "source": [
    "import cv2\n",
    "import numpy as np"
   ]
  },
  {
   "cell_type": "code",
   "execution_count": 2,
   "id": "c04afdb4-31ae-44a7-99ee-a66b864b8bd5",
   "metadata": {},
   "outputs": [],
   "source": [
    "clicked_points = []"
   ]
  },
  {
   "cell_type": "code",
   "execution_count": 3,
   "id": "da0f08b5-bcb8-4c0d-8904-67aaaaddd9ca",
   "metadata": {},
   "outputs": [],
   "source": [
    "def click_event(event, x, y, flags, param):\n",
    "    if event == cv2.EVENT_LBUTTONDOWN:\n",
    "        clicked_points.append((x, y))\n",
    "        print(f\"Point {len(clicked_points)}: ({x}, {y})\")"
   ]
  },
  {
   "cell_type": "code",
   "execution_count": 4,
   "id": "e1d80bd9-2f62-4ac6-9d45-f556a753f7d0",
   "metadata": {},
   "outputs": [],
   "source": [
    "# Load frame\n",
    "frame = cv2.imread('frame.png')"
   ]
  },
  {
   "cell_type": "code",
   "execution_count": 5,
   "id": "4940416a-eda4-4cc5-916c-4d4c222f26a8",
   "metadata": {},
   "outputs": [],
   "source": [
    "# Step 1: Define top-down reference court in pixels\n",
    "court_width_px = 1000\n",
    "court_height_px = 2000\n",
    "topdown_pts = np.array([\n",
    "    [0, 0],                               # Top-left\n",
    "    [court_width_px, 0],                 # Top-right\n",
    "    [court_width_px, court_height_px],   # Bottom-right\n",
    "    [0, court_height_px]                 # Bottom-left\n",
    "], dtype=np.float32)"
   ]
  },
  {
   "cell_type": "code",
   "execution_count": 6,
   "id": "10b42c30-0107-4345-aca1-23bf1529066b",
   "metadata": {},
   "outputs": [
    {
     "name": "stdout",
     "output_type": "stream",
     "text": [
      "Point 1: (763, 234)\n",
      "Point 2: (1167, 217)\n",
      "Point 3: (52, 944)\n",
      "Point 4: (1919, 884)\n"
     ]
    }
   ],
   "source": [
    "# Step 2: Click to select points in the image\n",
    "cv2.imshow('Click 4 Court Corners (TL, TR, BR, BL)', frame)\n",
    "cv2.setMouseCallback('Click 4 Court Corners (TL, TR, BR, BL)', click_event)\n",
    "cv2.waitKey(0)\n",
    "cv2.destroyAllWindows()\n",
    "\n",
    "if len(clicked_points) != 4:\n",
    "    print(\"You need to click exactly 4 points.\")\n",
    "    exit()\n",
    "\n",
    "camera_pts = np.array(clicked_points, dtype=np.float32)"
   ]
  },
  {
   "cell_type": "code",
   "execution_count": null,
   "id": "e99841f3-8f70-4d45-8889-3d8989eee2e8",
   "metadata": {},
   "outputs": [],
   "source": [
    "# Step 3: Compute homography and warp the image\n",
    "H, _ = cv2.findHomography(camera_pts, topdown_pts)\n",
    "warped = cv2.warpPerspective(frame, H, (court_width_px, court_height_px))\n",
    "\n",
    "cv2.imshow('Warped Top-Down View', warped)\n",
    "cv2.imwrite('warped_topdown.jpg', warped)\n",
    "cv2.waitKey(0)\n",
    "cv2.destroyAllWindows()"
   ]
  },
  {
   "cell_type": "code",
   "execution_count": null,
   "id": "843b5386-38cb-490b-a4e2-94c41ed55004",
   "metadata": {},
   "outputs": [],
   "source": []
  }
 ],
 "metadata": {
  "kernelspec": {
   "display_name": "env5",
   "language": "python",
   "name": "env5"
  },
  "language_info": {
   "codemirror_mode": {
    "name": "ipython",
    "version": 3
   },
   "file_extension": ".py",
   "mimetype": "text/x-python",
   "name": "python",
   "nbconvert_exporter": "python",
   "pygments_lexer": "ipython3",
   "version": "3.12.3"
  }
 },
 "nbformat": 4,
 "nbformat_minor": 5
}
